{
 "cells": [
  {
   "cell_type": "markdown",
   "id": "00f1b682-f6e5-4ad2-86cb-4217e3b1d3b2",
   "metadata": {
    "jp-MarkdownHeadingCollapsed": true,
    "tags": []
   },
   "source": [
    "# Solving the Royal Tour Problem with Minimax\n",
    "The Royal Tour is a series of moves starting with the position below, white to move. White can force black to take all of the white's pieces except one, and then win the game with a 9 piece jump.\n",
    "\n",
    "It is an interesting problem because a search tree must go at least 13 levels deep to 'see' the victory from the start.\n",
    "\n",
    "0.          [FEN \"W:W27,19,18,11,7,6,5:B28,26,25,20,17,10,9,4,3,2\"]\n",
    "1. 19-15-->\t[FEN \"B:W27,18,15,11,5,6,7:B25,26,28,17,20,9,10,2,3,4\"]\n",
    "2. 10x19-->\t[FEN \"W:W27,18,11,5,6,7:B25,26,28,17,19,20,9,2,3,4\"]\n",
    "3. 5-1-->\t[FEN \"B:W27,18,11,6,7,K1:B25,26,28,17,19,20,9,2,3,4\"]\n",
    "4. 3x10-->\t[FEN \"W:W27,18,11,6,K1:B25,26,28,17,19,20,9,10,2,4\"] \n",
    "5. 11-8-->\t[FEN \"B:W27,18,6,8,K1:B25,26,28,17,19,20,9,10,2,4\"]\n",
    "6. 4x11-->\t[FEN \"W:W27,18,6,K1:B25,26,28,17,19,20,9,10,11,2\"]\n",
    "7. 27-24-->\t[FEN \"B:W24,18,6,K1:B25,26,28,17,19,20,9,10,11,2\"]\n",
    "8. 20x27-->\t[FEN \"W:W18,6,K1:B25,26,27,28,17,19,9,10,11,2\"]\n",
    "9. 18-14-->\t[FEN \"B:W14,6,K1:B25,26,27,28,17,19,9,10,11,2\"]\n",
    "10. 9x18-->\t[FEN \"W:W6,K1:B25,26,27,28,17,18,19,10,11,2\"]\n",
    "11. 1-5-->\t[FEN \"B:WK5,6:B25,26,27,28,17,18,19,10,11,2\"]\n",
    "12. 2x9-->\t[FEN \"W:WK5:B25,26,27,28,17,18,19,9,10,11\"]\n",
    "13. 5x32-->\t[FEN \"B:WK32:B28\"]"
   ]
  },
  {
   "cell_type": "markdown",
   "id": "8499277a-2415-49c8-811b-daf6b39c20c1",
   "metadata": {
    "tags": []
   },
   "source": [
    "# MinmaxA: First implementation of minimax algorithm\n",
    "\n",
    "This [Linkedin Learning class](https://www.linkedin.com/learning/ai-algorithms-for-gaming?u=73725428) got me started on minimax algoritm. \n",
    "\n",
    "MinmaxA uses a minimax algorithm to traverse a node tree for all legal moves to a specified depth. At each node, it uses the internal functions of board2.Board to find legal moves and to make the next move for the next level of the tree. For each node, it makes a deep copy of the Board instance before passing it to the next level.\n",
    "\n",
    "Using copy.deepcopy for each Board object is *very* slow.\n",
    "\n",
    "> **A note about Python versions.** MinmaxA was originally developed using Python 3.8-32 bit. Jupyter notebooks requires 64 bit version of Python. So, these tests are run on Python 3.10. Running 64 bit python carries a significant speed benefit:\n",
    "\n",
    ">From the same position with 32 Python:  \n",
    ">MinMaxA@d5 to move as White.  \n",
    ">MinMaxA@d5 - White's Move: [18, 14]  \n",
    "Score: -3; Time: 6.06; Nodes: 15047; nps: 2483)  \n",
    ">2483 nps with 32 bit v 3661 nps with 64 bit, a 33% speed improvement\n",
    "\n",
    "## Ideas for Making MinmaxA faster:\n",
    "\n",
    "- More efficient method for move generation, bitboards maybe. [Checker Bitboards Tutorial](https://www.3dkingdoms.com/checkers/bitboards.htm) by Jonathan Kreuzer.\n",
    "- Multi-threading to work on more than 1 branch of the tree at a time.\n",
    "- Implement tree pruning."
   ]
  },
  {
   "cell_type": "code",
   "execution_count": 1,
   "id": "d8b06158-f002-4f6c-b018-934edd1b8e03",
   "metadata": {
    "collapsed": true,
    "jupyter": {
     "outputs_hidden": true,
     "source_hidden": true
    },
    "tags": []
   },
   "outputs": [
    {
     "name": "stdout",
     "output_type": "stream",
     "text": [
      "\n",
      "[FEN \"W:W27,18,19,11,5,6,7:B25,26,28,17,20,9,10,2,3,4\"]\n",
      "    -----------------\n",
      " 1 |   -   b   b   b | 4\n",
      " 5 | w   w   w   -   | 8\n",
      " 9 |   b   b   w   - | 12\n",
      "13 | -   -   -   -   | 16\n",
      "17 |   b   w   w   b | 20\n",
      "21 | -   -   -   -   | 24\n",
      "25 |   b   b   w   b | 28\n",
      "29 | -   -   -   -   | 32\n",
      "    -----------------\n",
      "MinMaxA@d5 to move as White.\n",
      "MinMaxA@d5 - White's Move: [18, 14]\n",
      "Score: -3; Time: 4.11; Nodes: 15047; nps: 3661)\n"
     ]
    }
   ],
   "source": [
    "from board2 import Board\n",
    "import engines\n",
    "from positions import positions\n",
    "from debug_pos import Debug_pos\n",
    "\n",
    "pos = '[FEN \"W:W27,19,18,11,7,6,5:B28,26,25,20,17,10,9,4,3,2\"]'\n",
    "b = Board(pos)\n",
    "engine = engines.minmaxA(b, maxdepth=5)\n",
    "db = Debug_pos(b, engine)\n",
    "print(b.printBoard())\n",
    "move, engine = db.debug()\n",
    "print(db.getEngineInfo(move))"
   ]
  },
  {
   "cell_type": "markdown",
   "id": "66f4fdf1-f2a4-491d-9d71-e273d9626f22",
   "metadata": {
    "tags": []
   },
   "source": [
    "## MinimaxA: The Royal Tour Test\n",
    "\n",
    "The Royal Tour Test is designed to measure how close an engine is to solving the Royal Tour Problem. It starts at the last position of the Royal Tour, after white has already won. The engine is asked to search one level deep. Since there are no legal moves, it finds the win immediately. Then the engine is given the next to the last position and asked to search two levels deep. Again, the engine will definitely find the win that is only one move away. The process continues, the positions getting closer to the starting position, and the engines being asked to search more deeply. The process stops if any level takes more than 5 minutes, 300 seconds, to finish.\n",
    "\n",
    "MinmaxA reached level 10, but it was over the time limit by a whopping 43 min 30 sec. Plainly, asking MinMaxA for a deeper search is unrealistic."
   ]
  },
  {
   "cell_type": "code",
   "execution_count": 4,
   "id": "0ad7e581-b437-4105-ba20-2008c179ee59",
   "metadata": {
    "collapsed": true,
    "jupyter": {
     "outputs_hidden": true,
     "source_hidden": true
    }
   },
   "outputs": [
    {
     "name": "stdout",
     "output_type": "stream",
     "text": [
      "MinMaxA@d1 as Black moves None\n",
      "\tScore: -100, Nodes: 0, NPS: 0 Error, Time: 0.0\n",
      "MinMaxA@d2 as White moves [5, 14, 23, 16, 7, 14, 21, 30, 23, 32]\n",
      "\tScore: 100, Nodes: 37, NPS: 0 Error, Time: 0.0\n",
      "MinMaxA@d3 as Black moves [2, 9]\n",
      "\tScore: -100, Nodes: 38, NPS: 1900, Time: 0.02\n",
      "MinMaxA@d4 as White moves [1, 5]\n",
      "\tScore: 100, Nodes: 39, NPS: 1950, Time: 0.02\n",
      "MinMaxA@d5 as Black moves [9, 18]\n",
      "\tScore: -100, Nodes: 40, NPS: 2000, Time: 0.02\n",
      "MinMaxA@d6 as White moves [18, 14]\n",
      "\tScore: 100, Nodes: 3357, NPS: 3949, Time: 0.85\n",
      "MinMaxA@d7 as Black moves [20, 27]\n",
      "\tScore: -100, Nodes: 3358, NPS: 3859, Time: 0.87\n",
      "MinMaxA@d8 as White moves [27, 24]\n",
      "\tScore: 100, Nodes: 142643, NPS: 3839, Time: 37.15\n",
      "MinMaxA@d9 as Black moves [4, 11]\n",
      "\tScore: -100, Nodes: 142644, NPS: 3888, Time: 36.68\n",
      "MinMaxA@d10 as White moves [27, 24]\n",
      "\tScore: 100, Nodes: 10411467, NPS: 3572, Time: 2914.46\n",
      "TimeOut\n"
     ]
    }
   ],
   "source": [
    "import engines\n",
    "import royalTourTest as rt\n",
    "\n",
    "rt.run(engines.minmaxA)"
   ]
  },
  {
   "cell_type": "markdown",
   "id": "11f71028-4e0e-4362-b70a-640f6ae591a7",
   "metadata": {
    "tags": []
   },
   "source": [
    "# MinMaxB Is Much Faster\n",
    "MinMaxB improves on MinMaxA by avoiding the deep copy of the board2.Board object at each tree node. Instead, MinMaxB passes along a copy of Board.position along with Board.onMove, to each node. The next node implants the position data into a single instance of a Board object to perform the necessary move generation and position update. (Board.position is a 46 element list containing the location of pieces on the board.) Using the same Board object for each node instead of a copying a node object for each node save an enormous amount of time.\n",
    "\n",
    "MinMaxB processes the same position and depth at 14195 nps vs MinMaxA's 3661 nps - 3.9 times faster. In practice MinMaxB is usually 5 times faster."
   ]
  },
  {
   "cell_type": "code",
   "execution_count": 2,
   "id": "88f73c52-8d67-46d5-8553-06dba76dfe41",
   "metadata": {
    "collapsed": true,
    "jupyter": {
     "outputs_hidden": true,
     "source_hidden": true
    }
   },
   "outputs": [
    {
     "name": "stdout",
     "output_type": "stream",
     "text": [
      "\n",
      "[FEN \"W:W27,18,19,11,5,6,7:B25,26,28,17,20,9,10,2,3,4\"]\n",
      "    -----------------\n",
      " 1 |   -   b   b   b | 4\n",
      " 5 | w   w   w   -   | 8\n",
      " 9 |   b   b   w   - | 12\n",
      "13 | -   -   -   -   | 16\n",
      "17 |   b   w   w   b | 20\n",
      "21 | -   -   -   -   | 24\n",
      "25 |   b   b   w   b | 28\n",
      "29 | -   -   -   -   | 32\n",
      "    -----------------\n",
      "MinMaxB@d5 to move as White.\n",
      "MinMaxB@d5 - White's Move: [18, 14]\n",
      "Score: -3; Time: 4.17; Nodes: 15047; nps: 3608)\n"
     ]
    }
   ],
   "source": [
    "from board2 import Board\n",
    "import engines\n",
    "from positions import positions\n",
    "from debug_pos import Debug_pos\n",
    "\n",
    "pos = '[FEN \"W:W27,19,18,11,7,6,5:B28,26,25,20,17,10,9,4,3,2\"]'\n",
    "b = Board(pos)\n",
    "engine = engines.minmaxB(b, maxdepth=5)\n",
    "db = Debug_pos(b, engine)\n",
    "print(b.printBoard())\n",
    "move, engine = db.debug()\n",
    "print(db.getEngineInfo(move))"
   ]
  },
  {
   "cell_type": "markdown",
   "id": "d897733b-8d3d-441e-90d7-d029355cb036",
   "metadata": {
    "tags": []
   },
   "source": [
    "## MinMaxB: The Royal Tour Test\n",
    "Like MinMaxA, MinMaxB also got to level 10. But MinMaxB went over the 300 second deadline by only 130 seconds. This compared to MinMaxA missing the deadline by 2600 seconds.\n",
    "\n",
    "Level 9 has 142,000 nodes. Level 10 has nearly 10.5 million nodes. Minmaxb is almost over the hump, ready to move on to depth 11. MinmaxA is not even close. Perhaps adding pruning will get us close."
   ]
  },
  {
   "cell_type": "code",
   "execution_count": 2,
   "id": "f8fa718d-0b7e-4c17-824f-210ebb957c34",
   "metadata": {
    "collapsed": true,
    "jupyter": {
     "outputs_hidden": true,
     "source_hidden": true
    }
   },
   "outputs": [
    {
     "name": "stdout",
     "output_type": "stream",
     "text": [
      "MinMaxB@d1 as Black moves None\n",
      "\tScore: -100, Nodes: 0, NPS: 0 Error, Time: 0.0\n",
      "MinMaxB@d2 as White moves [5, 14, 23, 16, 7, 14, 21, 30, 23, 32]\n",
      "\tScore: 100, Nodes: 37, NPS: 0 Error, Time: 0.0\n",
      "MinMaxB@d3 as Black moves [2, 9]\n",
      "\tScore: -100, Nodes: 38, NPS: 0 Error, Time: 0.0\n",
      "MinMaxB@d4 as White moves [1, 5]\n",
      "\tScore: 100, Nodes: 39, NPS: 1950, Time: 0.02\n",
      "MinMaxB@d5 as Black moves [9, 18]\n",
      "\tScore: -100, Nodes: 40, NPS: 0 Error, Time: 0.0\n",
      "MinMaxB@d6 as White moves [18, 14]\n",
      "\tScore: 100, Nodes: 3357, NPS: 20981, Time: 0.16\n",
      "MinMaxB@d7 as Black moves [20, 27]\n",
      "\tScore: -100, Nodes: 3358, NPS: 18655, Time: 0.18\n",
      "MinMaxB@d8 as White moves [27, 24]\n",
      "\tScore: 100, Nodes: 142643, NPS: 23006, Time: 6.2\n",
      "MinMaxB@d9 as Black moves [4, 11]\n",
      "\tScore: -100, Nodes: 142644, NPS: 23616, Time: 6.04\n",
      "MinMaxB@d10 as White moves [27, 24]\n",
      "\tScore: 100, Nodes: 10411467, NPS: 24165, Time: 430.84\n",
      "TimeOut\n"
     ]
    }
   ],
   "source": [
    "import engines\n",
    "import royalTourTest as rt\n",
    "params = {'randomize' : False, 'ab' : True }\n",
    "rt.run(engines.minmaxB, params)"
   ]
  },
  {
   "cell_type": "markdown",
   "id": "03b90f8d-c158-4262-b05e-aad3be6a5385",
   "metadata": {
    "tags": []
   },
   "source": [
    "# MinMaxAB: Alpha-beta pruning solves the Royal Tour Problem in Under 2 Minutes!\n",
    "\n",
    "(This is the same engine at MinMaxB, but with ab = True.)\n",
    "\n",
    "At depth=10, MinMaxB searched 10,411,467 nodes in 431 seconds. Pruning reduced the number of nodes at that depth to 123,554 completed in 4.49 seconds! A staggering increase in efficiency, allowing MinMaxAB to complete the Royal Tour Problem in 118 seconds."
   ]
  },
  {
   "cell_type": "code",
   "execution_count": 1,
   "id": "5686e729-3a9b-4a2d-9942-b9274ce17a67",
   "metadata": {
    "tags": []
   },
   "outputs": [
    {
     "name": "stdout",
     "output_type": "stream",
     "text": [
      "MinMaxB@d1 as Black moves None\n",
      "\tScore: -100, Nodes: 0, NPS: 0 Error, Time: 0.0\n",
      "MinMaxB@d2 as White moves [5, 14, 23, 16, 7, 14, 21, 30, 23, 32]\n",
      "\tScore: 100, Nodes: 23, NPS: 0 Error, Time: 0.0\n",
      "MinMaxB@d3 as Black moves [2, 9]\n",
      "\tScore: -100, Nodes: 24, NPS: 0 Error, Time: 0.0\n",
      "MinMaxB@d4 as White moves [1, 5]\n",
      "\tScore: 100, Nodes: 25, NPS: 1250, Time: 0.02\n",
      "MinMaxB@d5 as Black moves [9, 18]\n",
      "\tScore: -100, Nodes: 26, NPS: 0 Error, Time: 0.0\n",
      "MinMaxB@d6 as White moves [18, 14]\n",
      "\tScore: 100, Nodes: 59, NPS: 0 Error, Time: 0.0\n",
      "MinMaxB@d7 as Black moves [20, 27]\n",
      "\tScore: -100, Nodes: 60, NPS: 3000, Time: 0.02\n",
      "MinMaxB@d8 as White moves [27, 24]\n",
      "\tScore: 100, Nodes: 4895, NPS: 17482, Time: 0.28\n",
      "MinMaxB@d9 as Black moves [4, 11]\n",
      "\tScore: -100, Nodes: 4896, NPS: 22254, Time: 0.22\n",
      "MinMaxB@d10 as White moves [27, 24]\n",
      "\tScore: 100, Nodes: 123554, NPS: 27517, Time: 4.49\n",
      "MinMaxB@d11 as Black moves [3, 10]\n",
      "\tScore: -100, Nodes: 123555, NPS: 27335, Time: 4.52\n",
      "MinMaxB@d12 as White moves [5, 1]\n",
      "\tScore: 100, Nodes: 282891, NPS: 26413, Time: 10.71\n",
      "MinMaxB@d13 as Black moves [10, 19]\n",
      "\tScore: -100, Nodes: 282892, NPS: 26537, Time: 10.66\n",
      "MinMaxB@d14 as White moves [27, 24]\n",
      "\tScore: 100, Nodes: 2780167, NPS: 23465, Time: 118.48\n",
      "Congratulations. You have solved the Royal Tour Problem!\n"
     ]
    }
   ],
   "source": [
    "import engines\n",
    "import royalTourTest as rt\n",
    "\n",
    "rt.run(engines.minmaxB)"
   ]
  },
  {
   "cell_type": "markdown",
   "id": "9ad2f9ed-4426-4ce4-b998-95352617506c",
   "metadata": {},
   "source": [
    "# NegaMax\n",
    "\n",
    "NegaMax is the same as MinmaxB except that the max_value and min_value methods have been consolidated into the same negamax method. We introduce the mp. Starting with -1 means that the maximizing player goes first. In the next recursion, mp is flipped to 1, meaning that the minimizing player is responding.\n",
    "\n",
    "I am sure there is still optimization to do in the alpha-beta pruning section and where the result is compared with the best so far.\n",
    "\n",
    "So long as randomize=False, NegaMax and MinimaxB should produce the same tree with the same number of nodes. This is shown here."
   ]
  },
  {
   "cell_type": "code",
   "execution_count": 2,
   "id": "2e51b4c4-157d-4fb9-ad7d-648976483254",
   "metadata": {
    "collapsed": true,
    "jupyter": {
     "outputs_hidden": true,
     "source_hidden": true
    }
   },
   "outputs": [
    {
     "name": "stdout",
     "output_type": "stream",
     "text": [
      "MinMaxB with Pruning\n",
      "MinMaxB@d1 as Black moves None\n",
      "\tScore: -100, Nodes: 0, NPS: 0 Error, Time: 0.0\n",
      "MinMaxB@d2 as White moves [5, 14, 23, 16, 7, 14, 21, 30, 23, 32]\n",
      "\tScore: 100, Nodes: 23, NPS: 1150, Time: 0.02\n",
      "MinMaxB@d3 as Black moves [2, 9]\n",
      "\tScore: -100, Nodes: 24, NPS: 2400, Time: 0.01\n",
      "MinMaxB@d4 as White moves [1, 5]\n",
      "\tScore: 100, Nodes: 25, NPS: 0 Error, Time: 0.0\n",
      "MinMaxB@d5 as Black moves [9, 18]\n",
      "\tScore: -100, Nodes: 26, NPS: 0 Error, Time: 0.0\n",
      "MinMaxB@d6 as White moves [18, 14]\n",
      "\tScore: 100, Nodes: 59, NPS: 2950, Time: 0.02\n",
      "MinMaxB@d7 as Black moves [20, 27]\n",
      "\tScore: -100, Nodes: 60, NPS: 0 Error, Time: 0.0\n",
      "MinMaxB@d8 as White moves [27, 24]\n",
      "\tScore: 100, Nodes: 4895, NPS: 18826, Time: 0.26\n",
      "MinMaxB@d9 as Black moves [4, 11]\n",
      "\tScore: -100, Nodes: 4896, NPS: 19584, Time: 0.25\n",
      "MinMaxB@d10 as White moves [27, 24]\n",
      "\tScore: 100, Nodes: 123554, NPS: 23852, Time: 5.18\n",
      "MinMaxB@d11 as Black moves [3, 10]\n",
      "\tScore: -100, Nodes: 123555, NPS: 25266, Time: 4.89\n",
      "MinMaxB@d12 as White moves [5, 1]\n",
      "\tScore: 100, Nodes: 282891, NPS: 22345, Time: 12.66\n",
      "MinMaxB@d13 as Black moves [10, 19]\n",
      "\tScore: -100, Nodes: 282892, NPS: 25258, Time: 11.2\n",
      "MinMaxB@d14 as White moves [27, 24]\n",
      "\tScore: 100, Nodes: 2780167, NPS: 23193, Time: 119.87\n",
      "Congratulations. You have solved the Royal Tour Problem!\n",
      "\n",
      "NegaMax with Pruning\n",
      "NegaMax@d1 as Black moves None\n",
      "\tScore: -100, Nodes: 0, NPS: 0 Error, Time: 0.0\n",
      "NegaMax@d2 as White moves [5, 14, 23, 16, 7, 14, 21, 30, 23, 32]\n",
      "\tScore: 100, Nodes: 23, NPS: 0 Error, Time: 0.0\n",
      "NegaMax@d3 as Black moves [2, 9]\n",
      "\tScore: -100, Nodes: 24, NPS: 2400, Time: 0.01\n",
      "NegaMax@d4 as White moves [1, 5]\n",
      "\tScore: 100, Nodes: 25, NPS: 0 Error, Time: 0.0\n",
      "NegaMax@d5 as Black moves [9, 18]\n",
      "\tScore: -100, Nodes: 26, NPS: 0 Error, Time: 0.0\n",
      "NegaMax@d6 as White moves [18, 14]\n",
      "\tScore: 100, Nodes: 59, NPS: 5900, Time: 0.01\n",
      "NegaMax@d7 as Black moves [20, 27]\n",
      "\tScore: -100, Nodes: 60, NPS: 0 Error, Time: 0.0\n",
      "NegaMax@d8 as White moves [27, 24]\n",
      "\tScore: 100, Nodes: 4895, NPS: 21282, Time: 0.23\n",
      "NegaMax@d9 as Black moves [4, 11]\n",
      "\tScore: -100, Nodes: 4896, NPS: 19584, Time: 0.25\n",
      "NegaMax@d10 as White moves [27, 24]\n",
      "\tScore: 100, Nodes: 123554, NPS: 25112, Time: 4.92\n",
      "NegaMax@d11 as Black moves [3, 10]\n",
      "\tScore: -100, Nodes: 123555, NPS: 26918, Time: 4.59\n",
      "NegaMax@d12 as White moves [5, 1]\n",
      "\tScore: 100, Nodes: 282891, NPS: 26024, Time: 10.87\n",
      "NegaMax@d13 as Black moves [10, 19]\n",
      "\tScore: -100, Nodes: 282892, NPS: 24556, Time: 11.52\n",
      "NegaMax@d14 as White moves [27, 24]\n",
      "\tScore: 100, Nodes: 2780167, NPS: 21514, Time: 129.22\n",
      "Congratulations. You have solved the Royal Tour Problem!\n"
     ]
    }
   ],
   "source": [
    "import engines\n",
    "import royalTourTest as rt\n",
    "print(\"MinMaxB with Pruning\")\n",
    "\n",
    "params = {'randomize' : False, 'ab' : True }\n",
    "rt.run(engines.minmaxB, params)\n",
    "print(\"\\nNegaMax with Pruning\")\n",
    "rt.run(engines.negamax, params)"
   ]
  },
  {
   "cell_type": "code",
   "execution_count": 1,
   "id": "cb7a58e7-2c7e-4179-9cb6-3c7b6e6b4a3c",
   "metadata": {
    "collapsed": true,
    "jupyter": {
     "outputs_hidden": true,
     "source_hidden": true
    }
   },
   "outputs": [
    {
     "name": "stdout",
     "output_type": "stream",
     "text": [
      "NegaMax@d1 as Black moves None\n",
      "\tScore: -100, Nodes: 0, NPS: 0 Error, Time: 0.0\n",
      "NegaMax@d2 as White moves [5, 14, 23, 16, 7, 14, 21, 30, 23, 32]\n",
      "\tScore: 100, Nodes: 23, NPS: 0 Error, Time: 0.0\n",
      "NegaMax@d3 as Black moves [2, 9]\n",
      "\tScore: -100, Nodes: 24, NPS: 1200, Time: 0.02\n",
      "NegaMax@d4 as White moves [1, 5]\n",
      "\tScore: 100, Nodes: 25, NPS: 0 Error, Time: 0.0\n",
      "NegaMax@d5 as Black moves [9, 18]\n",
      "\tScore: -100, Nodes: 26, NPS: 0 Error, Time: 0.0\n",
      "NegaMax@d6 as White moves [18, 14]\n",
      "\tScore: 100, Nodes: 59, NPS: 2950, Time: 0.02\n",
      "NegaMax@d7 as Black moves [20, 27]\n",
      "\tScore: -100, Nodes: 60, NPS: 0 Error, Time: 0.0\n",
      "NegaMax@d8 as White moves [27, 24]\n",
      "\tScore: 100, Nodes: 4895, NPS: 11654, Time: 0.42\n",
      "NegaMax@d9 as Black moves [4, 11]\n",
      "\tScore: -100, Nodes: 4896, NPS: 16320, Time: 0.3\n",
      "NegaMax@d10 as White moves [27, 24]\n",
      "\tScore: 100, Nodes: 123554, NPS: 18950, Time: 6.52\n",
      "NegaMax@d11 as Black moves [3, 10]\n",
      "\tScore: -100, Nodes: 123555, NPS: 18805, Time: 6.57\n",
      "NegaMax@d12 as White moves [5, 1]\n",
      "\tScore: 100, Nodes: 282891, NPS: 20337, Time: 13.91\n",
      "NegaMax@d13 as Black moves [10, 19]\n",
      "\tScore: -100, Nodes: 282892, NPS: 26145, Time: 10.82\n",
      "NegaMax@d14 as White moves [27, 24]\n",
      "\tScore: 100, Nodes: 2780167, NPS: 22601, Time: 123.01\n",
      "Congratulations. You have solved the Royal Tour Problem!\n"
     ]
    }
   ],
   "source": [
    "import engines\n",
    "import royalTourTest as rt\n",
    "\n",
    "params = {'randomize' : False, 'ab' : True }\n",
    "rt.run(engines.negamax, params)"
   ]
  },
  {
   "cell_type": "markdown",
   "id": "17c85db9-b831-42db-a79c-ab7107153614",
   "metadata": {},
   "source": [
    "# LittleBitB\n",
    "\n",
    "LittleBitB uses bitboards to represent the state of the board, generate moves, and generate new bitboard positions based on those moves. In practice, LittleBitB is about 2.5 times faster than Negamax.\n",
    "\n",
    "Without randomization and with alpha-beta pruning, LittleBitB solves the Royal Tour Problem in about 108 seconds. This is a record, but not by a lot. By chance, ab pruning is not efficient at the last level (all previous levels finish in under 3 seconds.) With randomization, LittlebitB can occasionally solve the problem in under 5 seconds!"
   ]
  },
  {
   "cell_type": "code",
   "execution_count": 1,
   "id": "4863a970-8f77-4024-ac6b-fda0867cfcde",
   "metadata": {
    "tags": []
   },
   "outputs": [
    {
     "name": "stdout",
     "output_type": "stream",
     "text": [
      "Working on [FEN \"B:WK32:B28\"]\n",
      "littleBitB@d1 as Black moves None\n",
      "\tScore: -100, Nodes: 0, NPS: 0 Error, Time: 0.0\n",
      "Working on [FEN \"W:WK5:B25,26,27,28,17,18,19,9,10,11\"]\n",
      "littleBitB@d2 as White moves [5, 14, 7, 16, 23, 14, 21, 30, 23, 32]\n",
      "\tScore: 100, Nodes: 12, NPS: 0 Error, Time: 0.0\n",
      "Working on [FEN \"B:WK5,6:B25,26,27,28,17,18,19,10,11,2\"]\n",
      "littleBitB@d3 as Black moves [2, 9]\n",
      "\tScore: -100, Nodes: 13, NPS: 0 Error, Time: 0.0\n",
      "Working on [FEN \"W:W6,K1:B25,26,27,28,17,18,19,10,11,2\"]\n",
      "littleBitB@d4 as White moves [1, 5]\n",
      "\tScore: 100, Nodes: 14, NPS: 0 Error, Time: 0.0\n",
      "Working on [FEN \"B:W14,6,K1:B25,26,27,28,17,19,9,10,11,2\"]\n",
      "littleBitB@d5 as Black moves [9, 18]\n",
      "\tScore: -100, Nodes: 15, NPS: 0 Error, Time: 0.0\n",
      "Working on [FEN \"W:W18,6,K1:B25,26,27,28,17,19,9,10,11,2\"]\n",
      "littleBitB@d6 as White moves [18, 14]\n",
      "\tScore: 100, Nodes: 1160, NPS: 38666, Time: 0.03\n",
      "Working on [FEN \"B:W24,18,6,K1:B25,26,28,17,19,20,9,10,11,2\"]\n",
      "littleBitB@d7 as Black moves [20, 27]\n",
      "\tScore: -100, Nodes: 1161, NPS: 58050, Time: 0.02\n",
      "Working on [FEN \"W:W27,18,6,K1:B25,26,28,17,19,20,9,10,11,2\"]\n",
      "littleBitB@d8 as White moves [27, 24]\n",
      "\tScore: 100, Nodes: 12368, NPS: 58895, Time: 0.21\n",
      "Working on [FEN \"B:W27,18,6,8,K1:B25,26,28,17,19,20,9,10,2,4\"]\n",
      "littleBitB@d9 as Black moves [4, 11]\n",
      "\tScore: -100, Nodes: 12369, NPS: 61845, Time: 0.2\n",
      "Working on [FEN \"W:W27,18,11,6,K1:B25,26,28,17,19,20,9,10,2,4\"]\n",
      "littleBitB@d10 as White moves [11, 8]\n",
      "\tScore: 100, Nodes: 159773, NPS: 52730, Time: 3.03\n",
      "Working on [FEN \"B:W27,18,11,6,7,K1:B25,26,28,17,19,20,9,2,3,4\"]\n",
      "littleBitB@d11 as Black moves [3, 10]\n",
      "\tScore: -100, Nodes: 159774, NPS: 57062, Time: 2.8\n",
      "Working on [FEN \"W:W27,18,11,5,6,7:B25,26,28,17,19,20,9,2,3,4\"]\n",
      "littleBitB@d12 as White moves [5, 1]\n",
      "\tScore: 100, Nodes: 169895, NPS: 56821, Time: 2.99\n",
      "Working on [FEN \"B:W27,18,15,11,5,6,7:B25,26,28,17,20,9,10,2,3,4\"]\n",
      "littleBitB@d13 as Black moves [10, 19]\n",
      "\tScore: -100, Nodes: 169896, NPS: 56443, Time: 3.01\n",
      "Working on [FEN \"W:W27,19,18,11,7,6,5:B28,26,25,20,17,10,9,4,3,2\"]\n",
      "littleBitB@d14 as White moves [19, 15]\n",
      "\tScore: 100, Nodes: 5937793, NPS: 53950, Time: 110.06\n",
      "Congratulations. You have solved the Royal Tour Problem!\n"
     ]
    }
   ],
   "source": [
    "# Randomization Off\n",
    "import engines\n",
    "import royalTourTest as rt\n",
    "\n",
    "rt.run(engines.littlebitB, {'ab':True, 'randomize':False})"
   ]
  },
  {
   "cell_type": "code",
   "execution_count": 1,
   "id": "59d7d6d5-2139-40de-9765-05f110fc96eb",
   "metadata": {
    "tags": []
   },
   "outputs": [
    {
     "name": "stdout",
     "output_type": "stream",
     "text": [
      "Working on [FEN \"B:WK32:B28\"]\n",
      "littleBitB@d1 as Black moves None\n",
      "\tScore: -100, Nodes: 0, NPS: 0 Error, Time: 0.0\n",
      "Working on [FEN \"W:WK5:B25,26,27,28,17,18,19,9,10,11\"]\n",
      "littleBitB@d2 as White moves [5, 14, 23, 30, 21, 14, 7, 16, 23, 32]\n",
      "\tScore: 100, Nodes: 12, NPS: 0 Error, Time: 0.0\n",
      "Working on [FEN \"B:WK5,6:B25,26,27,28,17,18,19,10,11,2\"]\n",
      "littleBitB@d3 as Black moves [2, 9]\n",
      "\tScore: -100, Nodes: 20, NPS: 0 Error, Time: 0.0\n",
      "Working on [FEN \"W:W6,K1:B25,26,27,28,17,18,19,10,11,2\"]\n",
      "littleBitB@d4 as White moves [1, 5]\n",
      "\tScore: 100, Nodes: 32, NPS: 0 Error, Time: 0.0\n",
      "Working on [FEN \"B:W14,6,K1:B25,26,27,28,17,19,9,10,11,2\"]\n",
      "littleBitB@d5 as Black moves [9, 18]\n",
      "\tScore: -100, Nodes: 15, NPS: 0 Error, Time: 0.0\n",
      "Working on [FEN \"W:W18,6,K1:B25,26,27,28,17,19,9,10,11,2\"]\n",
      "littleBitB@d6 as White moves [18, 14]\n",
      "\tScore: 100, Nodes: 59, NPS: 0 Error, Time: 0.0\n",
      "Working on [FEN \"B:W24,18,6,K1:B25,26,28,17,19,20,9,10,11,2\"]\n",
      "littleBitB@d7 as Black moves [20, 27]\n",
      "\tScore: -100, Nodes: 731, NPS: 36550, Time: 0.02\n",
      "Working on [FEN \"W:W27,18,6,K1:B25,26,28,17,19,20,9,10,11,2\"]\n",
      "littleBitB@d8 as White moves [27, 24]\n",
      "\tScore: 100, Nodes: 1095, NPS: 54750, Time: 0.02\n",
      "Working on [FEN \"B:W27,18,6,8,K1:B25,26,28,17,19,20,9,10,2,4\"]\n",
      "littleBitB@d9 as Black moves [4, 11]\n",
      "\tScore: -100, Nodes: 6412, NPS: 53433, Time: 0.12\n",
      "Working on [FEN \"W:W27,18,11,6,K1:B25,26,28,17,19,20,9,10,2,4\"]\n",
      "littleBitB@d10 as White moves [11, 8]\n",
      "\tScore: 100, Nodes: 57282, NPS: 48544, Time: 1.18\n",
      "Working on [FEN \"B:W27,18,11,6,7,K1:B25,26,28,17,19,20,9,2,3,4\"]\n",
      "littleBitB@d11 as Black moves [3, 10]\n",
      "\tScore: -100, Nodes: 9042, NPS: 50233, Time: 0.18\n",
      "Working on [FEN \"W:W27,18,11,5,6,7:B25,26,28,17,19,20,9,2,3,4\"]\n",
      "littleBitB@d12 as White moves [5, 1]\n",
      "\tScore: 100, Nodes: 397946, NPS: 47601, Time: 8.36\n",
      "Working on [FEN \"B:W27,18,15,11,5,6,7:B25,26,28,17,20,9,10,2,3,4\"]\n",
      "littleBitB@d13 as Black moves [10, 19]\n",
      "\tScore: -100, Nodes: 77552, NPS: 48774, Time: 1.59\n",
      "Working on [FEN \"W:W27,19,18,11,7,6,5:B28,26,25,20,17,10,9,4,3,2\"]\n",
      "littleBitB@d14 as White moves [27, 24]\n",
      "\tScore: 100, Nodes: 569145, NPS: 47907, Time: 11.88\n",
      "Congratulations. You have solved the Royal Tour Problem!\n"
     ]
    }
   ],
   "source": [
    "# Randomization On\n",
    "import engines\n",
    "import royalTourTest as rt\n",
    "\n",
    "rt.run(engines.littlebitB, {'ab': True, 'randomize':True})"
   ]
  },
  {
   "cell_type": "markdown",
   "id": "047edc4b-e9f6-46b3-b014-bd0ef8df0b29",
   "metadata": {},
   "source": [
    "# AB Pruning is Highly Variable\n",
    "\n",
    "In this test, with random move order, the Royal Tour Problem is solved with a minimum of 168,584 (3.84 seconds) nodes to a maximum of 7,795,125 (159 seconds) nodes. \n",
    "\n",
    "Of course it would be better to know *how* to order the moves to get the best results. The linkedIn course suggested that the most aggressive moves should be examined first, but it's unclear to me what an aggressive move is in checkers and how to code for it.\n",
    "\n",
    "It would be useful to see the entire line of moves to gain an understanding of what to look for to get the efficient prunning."
   ]
  },
  {
   "cell_type": "code",
   "execution_count": 7,
   "id": "393b2c06-de5a-4ced-95b4-d75b00f89312",
   "metadata": {
    "tags": []
   },
   "outputs": [
    {
     "name": "stdout",
     "output_type": "stream",
     "text": [
      "Without randomizing move order.\n",
      "10. littleBitB@d14 100 [19, 15]   n: 5937793\tt: 109.81    nps: 54073\n",
      "With randome move order.\n",
      " 1. littleBitB@d14 100 [27, 24]   n: 656526\tt: 14.17     nps: 46332\n",
      " 2. littleBitB@d14 100 [19, 15]   n: 639247\tt: 13.65     nps: 46831\n",
      " 3. littleBitB@d14 100 [19, 15]   n: 7726912\tt: 156.47    nps: 49382\n",
      " 4. littleBitB@d14 100 [19, 15]   n: 7795125\tt: 159.22    nps: 48958\n",
      " 5. littleBitB@d14 100 [19, 15]   n: 1445590\tt: 30.78     nps: 46965\n",
      " 6. littleBitB@d14 100 [19, 15]   n: 1853149\tt: 38.66     nps: 47934\n",
      " 7. littleBitB@d14 100 [19, 15]   n: 563867\tt: 11.94     nps: 47225\n",
      " 8. littleBitB@d14 100 [27, 24]   n: 168584\tt: 3.84      nps: 43902\n",
      " 9. littleBitB@d14 100 [27, 24]   n: 481903\tt: 10.44     nps: 46159\n",
      "10. littleBitB@d14 100 [19, 15]   n: 3213864\tt: 66.52     nps: 48314\n"
     ]
    }
   ],
   "source": [
    "import board2\n",
    "import engines\n",
    "# The Royal Tour Starting Position\n",
    "pos = '[FEN \"W:W27,19,18,11,7,6,5:B28,26,25,20,17,10,9,4,3,2\"]'\n",
    "b = board2.Board(pos)\n",
    "e = engines.littlebitB(b, maxdepth=14, randomize=False, ab=True)\n",
    "move = e.selectMove()\n",
    "print(\"Without randomizing move order.\")\n",
    "print(f\"{str(i+1).rjust(2, ' ')}. {e.name} {e.score} {str(move).ljust(10, ' ')} n: {e.totalNodes}\\tt: {str(e.elapsedTime).ljust(10, ' ')}nps: {e.nps}\")\n",
    "e.randomize = True\n",
    "print(\"With random move order.\")\n",
    "for i in range(10):\n",
    "    move = e.selectMove()\n",
    "    print(f\"{str(i+1).rjust(2, ' ')}. {e.name} {e.score} {str(move).ljust(10, ' ')} n: {e.totalNodes}\\tt: {str(e.elapsedTime).ljust(10, ' ')}nps: {e.nps}\")"
   ]
  },
  {
   "cell_type": "markdown",
   "id": "64a4ba70-a1d9-4dd5-a6c8-d5b1e5d64cdd",
   "metadata": {},
   "source": [
    "# littleBitB with full line reporting\n",
    "\n",
    "Testing a version of littleBitB that will return the full line of moves, not just the one best move. This entails making a new copy of the growing move list, so I would expect slower performance.\n",
    "\n",
    "But, this shows a loss of only about 3 seconds over nearly 6 million nodes. This is acceptable."
   ]
  },
  {
   "cell_type": "code",
   "execution_count": 1,
   "id": "01c79679-74be-4518-99cf-f574babf39e7",
   "metadata": {},
   "outputs": [
    {
     "name": "stdout",
     "output_type": "stream",
     "text": [
      "Without randomizing move order.\n",
      "littleBitB@d14 100 [19, 15]   n: 5937793\tt: 111.11    nps: 53440\n"
     ]
    }
   ],
   "source": [
    "import board2\n",
    "import engines\n",
    "# The Royal Tour Starting Position\n",
    "pos = '[FEN \"W:W27,19,18,11,7,6,5:B28,26,25,20,17,10,9,4,3,2\"]'\n",
    "b = board2.Board(pos)\n",
    "e = engines.littlebitB(b, maxdepth=14, randomize=False, ab=True)\n",
    "move = e.selectMove()\n",
    "print(\"Without randomizing move order.\")\n",
    "jmove = str(move).ljust(10, ' ')\n",
    "jtime = str(e.elapsedTime).ljust(10, ' ')\n",
    "print(f\"{e.name} {e.score} {jmove} n: {e.totalNodes}\\tt: {jtime}nps: {e.nps}\")\n"
   ]
  },
  {
   "cell_type": "code",
   "execution_count": 9,
   "id": "d0f9d0ac-313a-4bc4-8702-28f9177c993a",
   "metadata": {},
   "outputs": [
    {
     "name": "stdout",
     "output_type": "stream",
     "text": [
      "   -------------------\n",
      " 0 |   -   -   -   - |  3\n",
      " 4 | -   -   -   -   |  7\n",
      " 9 |   -   -   -   - | 12\n",
      "13 | -   -   -   -   | 16\n",
      "18 |   -   -   -   - | 21\n",
      "22 | -   -   -   -   | 25\n",
      "27 |   -   -   -   b | 30\n",
      "31 | -   -   -   W   | 34\n",
      "   -------------------\n",
      "\n"
     ]
    }
   ],
   "source": [
    "fenList = [(e.move2FEN(line[0]), line[1])  for line in e.line]\n",
    "\n",
    "e.printBoard(fenList[12][1])"
   ]
  },
  {
   "cell_type": "code",
   "execution_count": 10,
   "id": "417a1781-01f2-47c3-bd9e-e9484bd28134",
   "metadata": {},
   "outputs": [
    {
     "data": {
      "text/plain": [
       "[([19, 15], [1478755854, 537430128, 0, 1]),\n",
       " ([10, 19], [1479803406, 537397360, 0, -1]),\n",
       " ([5, 1], [1479803406, 537397345, 1, 1]),\n",
       " ([3, 10], [1479804426, 537397281, 1, -1]),\n",
       " ([11, 8], [1479804426, 537395361, 1, 1]),\n",
       " ([4, 11], [1479806466, 537395233, 1, -1]),\n",
       " ([27, 24], [1479806466, 34078753, 1, 1]),\n",
       " ([20, 27], [2014580226, 524321, 1, -1]),\n",
       " ([18, 14], [2014580226, 16417, 1, 1]),\n",
       " ([9, 18], [2015104002, 33, 1, -1]),\n",
       " ([1, 5], [2015104002, 48, 16, 1]),\n",
       " ([2, 9], [2015104512, 16, 16, -1]),\n",
       " ([5, 14, 7, 16, 23, 14, 21, 30, 23, 32],\n",
       "  [1073741824, 17179869184, 17179869184, 1])]"
      ]
     },
     "execution_count": 10,
     "metadata": {},
     "output_type": "execute_result"
    }
   ],
   "source": [
    "fenList"
   ]
  },
  {
   "cell_type": "code",
   "execution_count": 12,
   "id": "8e5663c4-2147-48f7-92a5-f4c8150d6947",
   "metadata": {},
   "outputs": [
    {
     "data": {
      "text/plain": [
       "17179869184"
      ]
     },
     "execution_count": 12,
     "metadata": {},
     "output_type": "execute_result"
    }
   ],
   "source": [
    "1<<34"
   ]
  },
  {
   "cell_type": "code",
   "execution_count": 1,
   "id": "4fa49539-130e-4e01-9269-3dc02e6bf661",
   "metadata": {},
   "outputs": [
    {
     "name": "stdout",
     "output_type": "stream",
     "text": [
      "Without randomizing move order.\n",
      "littleBitB@d14 100 [19, 15]   n: 5937793\tt: 117.03    nps: 50737\n"
     ]
    }
   ],
   "source": [
    "# nps before change: 54073\n",
    "\n",
    "import board2\n",
    "import engines\n",
    "# The Royal Tour Starting Position\n",
    "pos = '[FEN \"W:W27,19,18,11,7,6,5:B28,26,25,20,17,10,9,4,3,2\"]'\n",
    "b = board2.Board(pos)\n",
    "e = engines.littlebitB(b, maxdepth=14, randomize=False, ab=True)\n",
    "move = e.selectMove()\n",
    "print(\"Without randomizing move order.\")\n",
    "print(f\"{e.name} {e.score} {str(move).ljust(10, ' ')} n: {e.totalNodes}\\tt: {str(e.elapsedTime).ljust(10, ' ')}nps: {e.nps}\")\n"
   ]
  }
 ],
 "metadata": {
  "kernelspec": {
   "display_name": "Python 3 (ipykernel)",
   "language": "python",
   "name": "python3"
  },
  "language_info": {
   "codemirror_mode": {
    "name": "ipython",
    "version": 3
   },
   "file_extension": ".py",
   "mimetype": "text/x-python",
   "name": "python",
   "nbconvert_exporter": "python",
   "pygments_lexer": "ipython3",
   "version": "3.10.6"
  }
 },
 "nbformat": 4,
 "nbformat_minor": 5
}
