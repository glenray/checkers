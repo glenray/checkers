{
 "cells": [
  {
   "cell_type": "markdown",
   "id": "00f1b682-f6e5-4ad2-86cb-4217e3b1d3b2",
   "metadata": {
    "jp-MarkdownHeadingCollapsed": true,
    "tags": []
   },
   "source": [
    "# Solving the Royal Tour Problem with Minimax\n",
    "The Royal Tour is a series of moves starting with the position below, white to move. White can force black to take all of the white's pieces except one, and then win the game with a 9 piece jump.\n",
    "\n",
    "It is an interesting problem because a search tree must go at least 13 levels deep to 'see' the victory from the start.\n",
    "\n",
    "0.          [FEN \"W:W27,19,18,11,7,6,5:B28,26,25,20,17,10,9,4,3,2\"]\n",
    "1. 19-15-->\t[FEN \"B:W27,18,15,11,5,6,7:B25,26,28,17,20,9,10,2,3,4\"]\n",
    "2. 10x19-->\t[FEN \"W:W27,18,11,5,6,7:B25,26,28,17,19,20,9,2,3,4\"]\n",
    "3. 5-1-->\t[FEN \"B:W27,18,11,6,7,K1:B25,26,28,17,19,20,9,2,3,4\"]\n",
    "4. 3x10-->\t[FEN \"W:W27,18,11,6,K1:B25,26,28,17,19,20,9,10,2,4\"] \n",
    "5. 11-8-->\t[FEN \"B:W27,18,6,8,K1:B25,26,28,17,19,20,9,10,2,4\"]\n",
    "6. 4x11-->\t[FEN \"W:W27,18,6,K1:B25,26,28,17,19,20,9,10,11,2\"]\n",
    "7. 27-24-->\t[FEN \"B:W24,18,6,K1:B25,26,28,17,19,20,9,10,11,2\"]\n",
    "8. 20x27-->\t[FEN \"W:W18,6,K1:B25,26,27,28,17,19,9,10,11,2\"]\n",
    "9. 18-14-->\t[FEN \"B:W14,6,K1:B25,26,27,28,17,19,9,10,11,2\"]\n",
    "10. 9x18-->\t[FEN \"W:W6,K1:B25,26,27,28,17,18,19,10,11,2\"]\n",
    "11. 1-5-->\t[FEN \"B:WK5,6:B25,26,27,28,17,18,19,10,11,2\"]\n",
    "12. 2x9-->\t[FEN \"W:WK5:B25,26,27,28,17,18,19,9,10,11\"]\n",
    "13. 5x32-->\t[FEN \"B:WK32:B28\"]"
   ]
  },
  {
   "cell_type": "markdown",
   "id": "8499277a-2415-49c8-811b-daf6b39c20c1",
   "metadata": {
    "tags": []
   },
   "source": [
    "# MinmaxA: First implementation of minimax algorithm\n",
    "\n",
    "This [Linkedin Learning class](https://www.linkedin.com/learning/ai-algorithms-for-gaming?u=73725428) got me started on minimax algoritm. \n",
    "\n",
    "MinmaxA uses a minimax algorithm to traverse a node tree for all legal moves to a specified depth. At each node, it uses the internal functions of board2.Board to find legal moves and to make the next move for the next level of the tree. For each node, it makes a deep copy of the Board instance before passing it to the next level.\n",
    "\n",
    "Using copy.deepcopy for each Board object is *very* slow.\n",
    "\n",
    "> **A note about Python versions.** MinmaxA was originally developed using Python 3.8-32 bit. Jupyter notebooks requires 64 bit version of Python. So, these tests are run on Python 3.10. Running 64 bit python carries a significant speed benefit:\n",
    "\n",
    ">From the same position with 32 Python:  \n",
    ">MinMaxA@d5 to move as White.  \n",
    ">MinMaxA@d5 - White's Move: [18, 14]  \n",
    "Score: -3; Time: 6.06; Nodes: 15047; nps: 2483)  \n",
    ">2483 nps with 32 bit v 3661 nps with 64 bit, a 33% speed improvement\n",
    "\n",
    "## Ideas for Making MinmaxA faster:\n",
    "\n",
    "- More efficient method for move generation, bitboards maybe. [Checker Bitboards Tutorial](https://www.3dkingdoms.com/checkers/bitboards.htm) by Jonathan Kreuzer.\n",
    "- Multi-threading to work on more than 1 branch of the tree at a time.\n",
    "- Implement tree pruning."
   ]
  },
  {
   "cell_type": "code",
   "execution_count": 1,
   "id": "d8b06158-f002-4f6c-b018-934edd1b8e03",
   "metadata": {},
   "outputs": [
    {
     "name": "stdout",
     "output_type": "stream",
     "text": [
      "\n",
      "[FEN \"W:W27,18,19,11,5,6,7:B25,26,28,17,20,9,10,2,3,4\"]\n",
      "    -----------------\n",
      " 1 |   -   b   b   b | 4\n",
      " 5 | w   w   w   -   | 8\n",
      " 9 |   b   b   w   - | 12\n",
      "13 | -   -   -   -   | 16\n",
      "17 |   b   w   w   b | 20\n",
      "21 | -   -   -   -   | 24\n",
      "25 |   b   b   w   b | 28\n",
      "29 | -   -   -   -   | 32\n",
      "    -----------------\n",
      "MinMaxA@d5 to move as White.\n",
      "MinMaxA@d5 - White's Move: [18, 14]\n",
      "Score: -3; Time: 4.11; Nodes: 15047; nps: 3661)\n"
     ]
    }
   ],
   "source": [
    "from board2 import Board\n",
    "import engines\n",
    "from positions import positions\n",
    "from debug_pos import Debug_pos\n",
    "\n",
    "pos = '[FEN \"W:W27,19,18,11,7,6,5:B28,26,25,20,17,10,9,4,3,2\"]'\n",
    "b = Board(pos)\n",
    "engine = engines.minmaxA(b, maxdepth=5)\n",
    "db = Debug_pos(b, engine)\n",
    "print(b.printBoard())\n",
    "move, engine = db.debug()\n",
    "print(db.getEngineInfo(move))"
   ]
  },
  {
   "cell_type": "markdown",
   "id": "66f4fdf1-f2a4-491d-9d71-e273d9626f22",
   "metadata": {
    "tags": []
   },
   "source": [
    "## MinimaxA: The Royal Tour Test\n",
    "\n",
    "The Royal Tour Test is designed to measure how close an engine is to solving the Royal Tour Problem. It starts at the last position of the Royal Tour, after white has already won. The engine is asked to search one level deep. Since there are no legal moves, it finds the win immediately. Then the engine is given the next to the last position and asked to search two levels deep. Again, the engine will definitely find the win that is only one move away. The process continues, the positions getting closer to the starting position, and the engines being asked to search more deeply. The process stops if any level takes more than 5 minutes, 300 seconds, to finish.\n",
    "\n",
    "MinmaxA reached level 10, but it was over the time limit by a whopping 43 min 30 sec. Plainly, asking MinMaxA for a deeper search is unrealistic."
   ]
  },
  {
   "cell_type": "code",
   "execution_count": 4,
   "id": "0ad7e581-b437-4105-ba20-2008c179ee59",
   "metadata": {},
   "outputs": [
    {
     "name": "stdout",
     "output_type": "stream",
     "text": [
      "MinMaxA@d1 as Black moves None\n",
      "\tScore: -100, Nodes: 0, NPS: 0 Error, Time: 0.0\n",
      "MinMaxA@d2 as White moves [5, 14, 23, 16, 7, 14, 21, 30, 23, 32]\n",
      "\tScore: 100, Nodes: 37, NPS: 0 Error, Time: 0.0\n",
      "MinMaxA@d3 as Black moves [2, 9]\n",
      "\tScore: -100, Nodes: 38, NPS: 1900, Time: 0.02\n",
      "MinMaxA@d4 as White moves [1, 5]\n",
      "\tScore: 100, Nodes: 39, NPS: 1950, Time: 0.02\n",
      "MinMaxA@d5 as Black moves [9, 18]\n",
      "\tScore: -100, Nodes: 40, NPS: 2000, Time: 0.02\n",
      "MinMaxA@d6 as White moves [18, 14]\n",
      "\tScore: 100, Nodes: 3357, NPS: 3949, Time: 0.85\n",
      "MinMaxA@d7 as Black moves [20, 27]\n",
      "\tScore: -100, Nodes: 3358, NPS: 3859, Time: 0.87\n",
      "MinMaxA@d8 as White moves [27, 24]\n",
      "\tScore: 100, Nodes: 142643, NPS: 3839, Time: 37.15\n",
      "MinMaxA@d9 as Black moves [4, 11]\n",
      "\tScore: -100, Nodes: 142644, NPS: 3888, Time: 36.68\n",
      "MinMaxA@d10 as White moves [27, 24]\n",
      "\tScore: 100, Nodes: 10411467, NPS: 3572, Time: 2914.46\n",
      "TimeOut\n"
     ]
    }
   ],
   "source": [
    "import engines\n",
    "import royalTourTest as rt\n",
    "\n",
    "rt.run(engines.minmaxA)"
   ]
  },
  {
   "cell_type": "markdown",
   "id": "11f71028-4e0e-4362-b70a-640f6ae591a7",
   "metadata": {
    "tags": []
   },
   "source": [
    "# MinMaxB Is Much Faster\n",
    "MinMaxB improves on MinMaxA by avoiding the deep copy of the board2.Board object at each tree node. Instead, MinMaxB passes along a copy of Board.position along with Board.onMove, to each node. The next node implants the position data into a single instance of a Board object to perform the necessary move generation and position update. (Board.position is a 46 element list containing the location of pieces on the board.) Using the same Board object for each node instead of a copying a node object for each node save an enormous amount of time.\n",
    "\n",
    "MinMaxB processes the same position and depth at 14195 nps vs MinMaxA's 3661 nps - 3.9 times faster. In practice MinMaxB is usually 5 times faster."
   ]
  },
  {
   "cell_type": "code",
   "execution_count": 2,
   "id": "88f73c52-8d67-46d5-8553-06dba76dfe41",
   "metadata": {},
   "outputs": [
    {
     "name": "stdout",
     "output_type": "stream",
     "text": [
      "\n",
      "[FEN \"W:W27,18,19,11,5,6,7:B25,26,28,17,20,9,10,2,3,4\"]\n",
      "    -----------------\n",
      " 1 |   -   b   b   b | 4\n",
      " 5 | w   w   w   -   | 8\n",
      " 9 |   b   b   w   - | 12\n",
      "13 | -   -   -   -   | 16\n",
      "17 |   b   w   w   b | 20\n",
      "21 | -   -   -   -   | 24\n",
      "25 |   b   b   w   b | 28\n",
      "29 | -   -   -   -   | 32\n",
      "    -----------------\n",
      "MinMaxB@d5 to move as White.\n",
      "MinMaxB@d5 - White's Move: [18, 14]\n",
      "Score: -3; Time: 4.17; Nodes: 15047; nps: 3608)\n"
     ]
    }
   ],
   "source": [
    "from board2 import Board\n",
    "import engines\n",
    "from positions import positions\n",
    "from debug_pos import Debug_pos\n",
    "\n",
    "pos = '[FEN \"W:W27,19,18,11,7,6,5:B28,26,25,20,17,10,9,4,3,2\"]'\n",
    "b = Board(pos)\n",
    "engine = engines.minmaxB(b, maxdepth=5)\n",
    "db = Debug_pos(b, engine)\n",
    "print(b.printBoard())\n",
    "move, engine = db.debug()\n",
    "print(db.getEngineInfo(move))"
   ]
  },
  {
   "cell_type": "markdown",
   "id": "d897733b-8d3d-441e-90d7-d029355cb036",
   "metadata": {
    "tags": []
   },
   "source": [
    "## MinMaxB: The Royal Tour Test\n",
    "Like MinMaxA, MinMaxB also got to level 10. But MinMaxB went over the 300 second deadline by only 130 seconds. This compared to MinMaxA missing the deadline by 2600 seconds.\n",
    "\n",
    "Level 9 has 142,000 nodes. Level 10 has nearly 10.5 million nodes. Minmaxb is almost over the hump, ready to move on to depth 11. MinmaxA is not even close. Perhaps adding pruning will get us close."
   ]
  },
  {
   "cell_type": "code",
   "execution_count": 2,
   "id": "f8fa718d-0b7e-4c17-824f-210ebb957c34",
   "metadata": {},
   "outputs": [
    {
     "name": "stdout",
     "output_type": "stream",
     "text": [
      "MinMaxB@d1 as Black moves None\n",
      "\tScore: -100, Nodes: 0, NPS: 0 Error, Time: 0.0\n",
      "MinMaxB@d2 as White moves [5, 14, 23, 16, 7, 14, 21, 30, 23, 32]\n",
      "\tScore: 100, Nodes: 37, NPS: 0 Error, Time: 0.0\n",
      "MinMaxB@d3 as Black moves [2, 9]\n",
      "\tScore: -100, Nodes: 38, NPS: 0 Error, Time: 0.0\n",
      "MinMaxB@d4 as White moves [1, 5]\n",
      "\tScore: 100, Nodes: 39, NPS: 1950, Time: 0.02\n",
      "MinMaxB@d5 as Black moves [9, 18]\n",
      "\tScore: -100, Nodes: 40, NPS: 0 Error, Time: 0.0\n",
      "MinMaxB@d6 as White moves [18, 14]\n",
      "\tScore: 100, Nodes: 3357, NPS: 20981, Time: 0.16\n",
      "MinMaxB@d7 as Black moves [20, 27]\n",
      "\tScore: -100, Nodes: 3358, NPS: 18655, Time: 0.18\n",
      "MinMaxB@d8 as White moves [27, 24]\n",
      "\tScore: 100, Nodes: 142643, NPS: 23006, Time: 6.2\n",
      "MinMaxB@d9 as Black moves [4, 11]\n",
      "\tScore: -100, Nodes: 142644, NPS: 23616, Time: 6.04\n",
      "MinMaxB@d10 as White moves [27, 24]\n",
      "\tScore: 100, Nodes: 10411467, NPS: 24165, Time: 430.84\n",
      "TimeOut\n"
     ]
    }
   ],
   "source": [
    "import engines\n",
    "import royalTourTest as rt\n",
    "\n",
    "rt.run(engines.minmaxB)"
   ]
  },
  {
   "cell_type": "markdown",
   "id": "03b90f8d-c158-4262-b05e-aad3be6a5385",
   "metadata": {},
   "source": [
    "# MinMaxAB: Alpha-beta pruning solves the Royal Tour Problem in Under 2 Minutes!\n",
    "\n",
    "(This is the same engine at MinMaxB, but with ab = True.)\n",
    "\n",
    "At depth=10, MinMaxB searched 10,411,467 nodes in 431 seconds. Pruning reduced the number of nodes at that depth to 123,554 completed in 4.49 seconds! A staggering increase in efficiency!"
   ]
  },
  {
   "cell_type": "code",
   "execution_count": 1,
   "id": "5686e729-3a9b-4a2d-9942-b9274ce17a67",
   "metadata": {},
   "outputs": [
    {
     "name": "stdout",
     "output_type": "stream",
     "text": [
      "MinMaxB@d1 as Black moves None\n",
      "\tScore: -100, Nodes: 0, NPS: 0 Error, Time: 0.0\n",
      "MinMaxB@d2 as White moves [5, 14, 23, 16, 7, 14, 21, 30, 23, 32]\n",
      "\tScore: 100, Nodes: 23, NPS: 0 Error, Time: 0.0\n",
      "MinMaxB@d3 as Black moves [2, 9]\n",
      "\tScore: -100, Nodes: 24, NPS: 0 Error, Time: 0.0\n",
      "MinMaxB@d4 as White moves [1, 5]\n",
      "\tScore: 100, Nodes: 25, NPS: 1250, Time: 0.02\n",
      "MinMaxB@d5 as Black moves [9, 18]\n",
      "\tScore: -100, Nodes: 26, NPS: 0 Error, Time: 0.0\n",
      "MinMaxB@d6 as White moves [18, 14]\n",
      "\tScore: 100, Nodes: 59, NPS: 0 Error, Time: 0.0\n",
      "MinMaxB@d7 as Black moves [20, 27]\n",
      "\tScore: -100, Nodes: 60, NPS: 3000, Time: 0.02\n",
      "MinMaxB@d8 as White moves [27, 24]\n",
      "\tScore: 100, Nodes: 4895, NPS: 17482, Time: 0.28\n",
      "MinMaxB@d9 as Black moves [4, 11]\n",
      "\tScore: -100, Nodes: 4896, NPS: 22254, Time: 0.22\n",
      "MinMaxB@d10 as White moves [27, 24]\n",
      "\tScore: 100, Nodes: 123554, NPS: 27517, Time: 4.49\n",
      "MinMaxB@d11 as Black moves [3, 10]\n",
      "\tScore: -100, Nodes: 123555, NPS: 27335, Time: 4.52\n",
      "MinMaxB@d12 as White moves [5, 1]\n",
      "\tScore: 100, Nodes: 282891, NPS: 26413, Time: 10.71\n",
      "MinMaxB@d13 as Black moves [10, 19]\n",
      "\tScore: -100, Nodes: 282892, NPS: 26537, Time: 10.66\n",
      "MinMaxB@d14 as White moves [27, 24]\n",
      "\tScore: 100, Nodes: 2780167, NPS: 23465, Time: 118.48\n",
      "Congratulations. You have solved the Royal Tour Problem!\n"
     ]
    }
   ],
   "source": [
    "import engines\n",
    "import royalTourTest as rt\n",
    "\n",
    "rt.run(engines.minmaxB)"
   ]
  },
  {
   "cell_type": "code",
   "execution_count": null,
   "id": "a53dbd14-88a2-4071-97c4-1a046a25725a",
   "metadata": {},
   "outputs": [],
   "source": []
  }
 ],
 "metadata": {
  "kernelspec": {
   "display_name": "Python 3 (ipykernel)",
   "language": "python",
   "name": "python3"
  },
  "language_info": {
   "codemirror_mode": {
    "name": "ipython",
    "version": 3
   },
   "file_extension": ".py",
   "mimetype": "text/x-python",
   "name": "python",
   "nbconvert_exporter": "python",
   "pygments_lexer": "ipython3",
   "version": "3.10.6"
  }
 },
 "nbformat": 4,
 "nbformat_minor": 5
}
