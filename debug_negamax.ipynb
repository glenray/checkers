{
 "cells": [
  {
   "cell_type": "markdown",
   "id": "2c79244e-4e76-4a63-bc07-f65fef6ace03",
   "metadata": {},
   "source": [
    "## Diagnosing NegaMax"
   ]
  },
  {
   "cell_type": "code",
   "execution_count": null,
   "id": "17cfbe9b-b9e9-4ab1-b9a0-d4c1d7133b3c",
   "metadata": {},
   "outputs": [],
   "source": [
    "import engines\n",
    "import royalTourTest as rt\n",
    "\n",
    "rt.run(engines.minmaxB)"
   ]
  }
 ],
 "metadata": {
  "kernelspec": {
   "display_name": "Python 3 (ipykernel)",
   "language": "python",
   "name": "python3"
  },
  "language_info": {
   "codemirror_mode": {
    "name": "ipython",
    "version": 3
   },
   "file_extension": ".py",
   "mimetype": "text/x-python",
   "name": "python",
   "nbconvert_exporter": "python",
   "pygments_lexer": "ipython3",
   "version": "3.10.6"
  }
 },
 "nbformat": 4,
 "nbformat_minor": 5
}
