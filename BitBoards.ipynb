{
 "cells": [
  {
   "cell_type": "markdown",
   "id": "de883497-b76d-4b18-b29f-4f2b41c57133",
   "metadata": {},
   "source": [
    "# Bitboard Engines\n",
    "\n",
    "Bitboards are an alternative representation of the state of a checker board. A bitboard is a 32 bit word used to represent the 32 legal squares. Each bit is used to represent one element of each square. Each checker board position can be represented with 3 bitboards: black pieces, red pieces, and kings. A bitboard of empty squares can then be derived from ~(red pieces | black pieces).\n",
    "\n",
    "Some resources:\n",
    "- [Jonathan Kreuzer](https://www.3dkingdoms.com/checkers/bitboards.htm) wrote a tutorial that helped get started.\n",
    "- [Counting set bits](https://www.geeksforgeeks.org/count-set-bits-in-an-integer/)\n",
    "- [Get the position of the first set bit](https://btechgeeks.com/python-program-to-find-position-of-rightmost-set-bit/)\n",
    "- [Modify a bit at a given position](https://www.geeksforgeeks.org/modify-bit-given-position/)\n"
   ]
  },
  {
   "cell_type": "markdown",
   "id": "77a56cb7-b018-40ed-9a83-b6ffbfe39265",
   "metadata": {
    "tags": []
   },
   "source": [
    "## littleBitA Engine\n",
    "\n",
    "littleBitA uses python integers rather than numpy entities. This is much faster. Somehow, littleBit was not using the numpy integers efficiently. One idea is to try to numpy rshift and lshift methods instead of the native python methods."
   ]
  },
  {
   "cell_type": "code",
   "execution_count": 15,
   "id": "94677bb9-b1c4-4b52-8af2-f564220c3f1f",
   "metadata": {},
   "outputs": [
    {
     "name": "stdout",
     "output_type": "stream",
     "text": [
      "Padded Array:\t2.4107698000152595 \n",
      "Bitboard:\t0.6558917000074871\n",
      "Bitboard is 3.6755607671018558 times faster than the padded array method.\n"
     ]
    }
   ],
   "source": [
    "import timeit\n",
    "import engines\n",
    "from board2 import Board\n",
    "\n",
    "i = 100000\n",
    "b = Board()\n",
    "e = engines.littlebitA(b)\n",
    "e.convert2BB(b.pos2Fen())\n",
    "movers = e.getMovers()\n",
    "\n",
    "time4PadArray = timeit.timeit(lambda: b.getLegalMoves(), number = i)\n",
    "time4Bitboard = timeit.timeit(lambda: e.getNormalMoves(movers), number = i)\n",
    "\n",
    "print(f'Padded Array:\\t{time4PadArray} \\nBitboard:\\t{time4Bitboard}')\n",
    "print(f'Bitboard is {time4PadArray/time4Bitboard} times faster than the padded array method.')"
   ]
  },
  {
   "cell_type": "markdown",
   "id": "e84df74e-a8ee-4d22-b72a-1d014ab25617",
   "metadata": {
    "tags": []
   },
   "source": [
    "## littleBit Engine\n",
    "\n",
    "This is my first effort at using a bitboard representation. Somehow, I got the idea to use numpy unsigned 32 bit objects (numpy.uint32) instead of the standard python int. Suprisingly, this was a little slower than board2.Board and finding normal legal moves. "
   ]
  },
  {
   "cell_type": "code",
   "execution_count": 12,
   "id": "326e66b3-a454-4f1f-9569-89c30949e4e8",
   "metadata": {},
   "outputs": [
    {
     "name": "stdout",
     "output_type": "stream",
     "text": [
      "Padded Array:\t2.278383400000166 \n",
      "Bitboard:\t3.0788861000328325\n"
     ]
    }
   ],
   "source": [
    "import timeit\n",
    "import engines\n",
    "from board2 import Board\n",
    "\n",
    "i = 100000\n",
    "b = Board()\n",
    "e = engines.littlebit(b)\n",
    "e.convert2BB(b.pos2Fen())\n",
    "movers = e.getMovers()\n",
    "\n",
    "time4PadArray = timeit.timeit(lambda: b.getLegalMoves(), number = i)\n",
    "time4Bitboard = timeit.timeit(lambda: e.getNormalMoves(movers), number = i)\n",
    "\n",
    "print(f'Padded Array:\\t{time4PadArray} \\nBitboard:\\t{time4Bitboard}')"
   ]
  }
 ],
 "metadata": {
  "kernelspec": {
   "display_name": "Python 3 (ipykernel)",
   "language": "python",
   "name": "python3"
  },
  "language_info": {
   "codemirror_mode": {
    "name": "ipython",
    "version": 3
   },
   "file_extension": ".py",
   "mimetype": "text/x-python",
   "name": "python",
   "nbconvert_exporter": "python",
   "pygments_lexer": "ipython3",
   "version": "3.10.6"
  }
 },
 "nbformat": 4,
 "nbformat_minor": 5
}
