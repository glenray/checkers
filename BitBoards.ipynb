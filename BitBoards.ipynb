{
 "cells": [
  {
   "cell_type": "code",
   "execution_count": 49,
   "id": "da36056e-a9e3-4ba8-a27d-e17ba17af919",
   "metadata": {},
   "outputs": [
    {
     "data": {
      "text/html": [
       "<style>\n",
       "    h1 {color: yellow;}\n",
       "    table td {border:2px solid white !important;}\n",
       "</style>\n"
      ],
      "text/plain": [
       "<IPython.core.display.HTML object>"
      ]
     },
     "metadata": {},
     "output_type": "display_data"
    }
   ],
   "source": [
    "%%HTML\n",
    "<style>\n",
    "    h1 {color: yellow;}\n",
    "    table td {border:2px solid white !important;}\n",
    "</style>"
   ]
  },
  {
   "cell_type": "markdown",
   "id": "de883497-b76d-4b18-b29f-4f2b41c57133",
   "metadata": {},
   "source": [
    "# Bitboard Engines\n",
    "\n",
    "Bitboards are an alternative representation of the state of a checker board. A bitboard is a 32 bit word used to represent the 32 legal squares. Each bit is used to represent one element of each square. Each checker board position can be represented with 3 bitboards: black pieces, red pieces, and kings. A bitboard of empty squares can then be derived from ~(red pieces | black pieces).\n",
    "\n",
    "Some resources:\n",
    "- [Jonathan Kreuzer](https://www.3dkingdoms.com/checkers/bitboards.htm) wrote a tutorial that helped get started.\n",
    "- But see [this](https://www.talkchess.com/forum3/viewtopic.php?t=64487) suggesting that Kreuzer's bitboard was not the best way. That using 43 bit ints would make all pieces move by 4 and 5. Rather than some by 3 and 4 and others by 4 and 5, depending on the rank of the square.\n",
    "- [Counting set bits](https://www.geeksforgeeks.org/count-set-bits-in-an-integer/)\n",
    "- [Get the position of the first set bit](https://btechgeeks.com/python-program-to-find-position-of-rightmost-set-bit/)\n",
    "- [Modify a bit at a given position](https://www.geeksforgeeks.org/modify-bit-given-position/)\n",
    "\n",
    "|littleBitA| board2 padded array |\n",
    "| ------- | ------------------- |\n",
    "|&emsp;00&emsp;01&emsp;02&emsp;03 | &emsp;37&emsp;38&emsp;39&emsp;40 |\n",
    "|04&emsp;05&emsp;06&emsp;07       | 32&emsp;33&emsp;34&emsp;35       |\n",
    "|&emsp;08&emsp;09&emsp;10&emsp;11 | &emsp;28&emsp;29&emsp;30&emsp;31 |\n",
    "|12&emsp;13&emsp;14&emsp;15       | 23&emsp;24&emsp;25&emsp;26       | \n",
    "|&emsp;16&emsp;17&emsp;18&emsp;19 | &emsp;19&emsp;20&emsp;21&emsp;22 |\n",
    "|20&emsp;21&emsp;22&emsp;23       | 14&emsp;15&emsp;16&emsp;17       |\n",
    "|&emsp;24&emsp;25&emsp;26&emsp;27 | &emsp;10&emsp;11&emsp;12&emsp;13 |\n",
    "|28&emsp;29&emsp;30&emsp;31       | 05&emsp;06&emsp;07&emsp;08       |\n",
    "\n"
   ]
  },
  {
   "cell_type": "markdown",
   "id": "77a56cb7-b018-40ed-9a83-b6ffbfe39265",
   "metadata": {
    "tags": []
   },
   "source": [
    "## littleBitA Engine\n",
    "\n",
    "littleBitA uses python integers rather than numpy entities. This about 3x faster. Somehow, littleBit was not using the numpy integers efficiently. \n",
    "\n",
    "One idea is to try to numpy rshift and lshift methods instead of the native python methods. I temporarily modified litteBit to use the numpy methods, but there was no noticeable speed improvement."
   ]
  },
  {
   "cell_type": "code",
   "execution_count": 29,
   "id": "94677bb9-b1c4-4b52-8af2-f564220c3f1f",
   "metadata": {},
   "outputs": [
    {
     "name": "stdout",
     "output_type": "stream",
     "text": [
      "Padded Array Time:\t2.37\n",
      "LittleBitA Time:\t0.75\n",
      "LittleBit Time:\t\t3.10\n",
      "LittleBitA is 3.17 times faster than the padded array method.\n",
      "[(8, 12), (8, 13), (9, 13), (9, 14), (10, 14), (10, 15), (11, 15)]\n"
     ]
    }
   ],
   "source": [
    "import timeit\n",
    "import engines\n",
    "from board2 import Board\n",
    "\n",
    "i = 100000\n",
    "b = Board()\n",
    "\n",
    "lba = engines.littlebitA(b)\n",
    "position = lba.convPos2BB()\n",
    "movers = lba.getMovers(position)\n",
    "\n",
    "lb = engines.littlebit(b)\n",
    "lb.convert2BB(b.pos2Fen())\n",
    "lbmovers = lb.getMovers()\n",
    "\n",
    "time4PadArray = timeit.timeit(b.getLegalMoves, number = i)\n",
    "time4Bitboard = timeit.timeit(lambda: lba.getNormalMoves(position, movers), number = i)\n",
    "time4lba = timeit.timeit(lambda: lb.getNormalMoves(lbamovers), number = i)\n",
    "\n",
    "print(f'Padded Array Time:\\t{time4PadArray:.2f}')\n",
    "print(f'LittleBitA Time:\\t{time4Bitboard:.2f}')\n",
    "print(f'LittleBit Time:\\t\\t{time4lba:.2f}')\n",
    "print(f'LittleBitA is {time4PadArray/time4Bitboard:.2f} times faster than the padded array method.')\n",
    "\n",
    "print(lba.getNormalMoves(position, movers))"
   ]
  },
  {
   "cell_type": "markdown",
   "id": "e84df74e-a8ee-4d22-b72a-1d014ab25617",
   "metadata": {
    "tags": []
   },
   "source": [
    "## littleBit Engine\n",
    "\n",
    "In this first effort at using a bitboard representation, I somehow got the idea to use numpy unsigned 32 bit objects (numpy.uint32) instead of the standard python int. Suprisingly, this was a little slower than board2.Board at finding non-jump moves even though:\n",
    "- board2.Board has to iterate over all 32 squares looking for the men on move\n",
    "- littleBit is concerned only with the 4 squares where it knows there are movers"
   ]
  },
  {
   "cell_type": "code",
   "execution_count": 9,
   "id": "326e66b3-a454-4f1f-9569-89c30949e4e8",
   "metadata": {},
   "outputs": [
    {
     "name": "stdout",
     "output_type": "stream",
     "text": [
      "Padded Array:\t2.6310233999975026 \n",
      "Bitboard:\t3.2120468000066467\n"
     ]
    }
   ],
   "source": [
    "import timeit\n",
    "import engines\n",
    "from board2 import Board\n",
    "\n",
    "i = 100000\n",
    "b = Board()\n",
    "e = engines.littlebit(b)\n",
    "e.convert2BB(b.pos2Fen())\n",
    "movers = e.getMovers()\n",
    "\n",
    "time4PadArray = timeit.timeit(b.getLegalMoves, number = i)\n",
    "time4Bitboard = timeit.timeit(lambda: e.getNormalMoves(movers), number = i)\n",
    "\n",
    "print(f'Padded Array:\\t{time4PadArray} \\nBitboard:\\t{time4Bitboard}')"
   ]
  }
 ],
 "metadata": {
  "kernelspec": {
   "display_name": "Python 3 (ipykernel)",
   "language": "python",
   "name": "python3"
  },
  "language_info": {
   "codemirror_mode": {
    "name": "ipython",
    "version": 3
   },
   "file_extension": ".py",
   "mimetype": "text/x-python",
   "name": "python",
   "nbconvert_exporter": "python",
   "pygments_lexer": "ipython3",
   "version": "3.10.6"
  }
 },
 "nbformat": 4,
 "nbformat_minor": 5
}
